{
 "cells": [
  {
   "cell_type": "markdown",
   "metadata": {},
   "source": [
    "# WeatherPy\n",
    "----\n",
    "\n",
    "#### Note\n",
    "* Instructions have been included for each segment. You do not have to follow them exactly, but they are included to help you think through the steps."
   ]
  },
  {
   "cell_type": "code",
   "execution_count": 1,
   "metadata": {
    "scrolled": true
   },
   "outputs": [],
   "source": [
    "# Dependencies and Setup\n",
    "import matplotlib.pyplot as plt\n",
    "import pandas as pd\n",
    "import numpy as np\n",
    "import requests\n",
    "import time\n",
    "from scipy.stats import linregress\n",
    "from pprint import pprint\n",
    "from datetime import datetime\n",
    "\n",
    "# Import API key\n",
    "from api_keys import weather_api_key\n",
    "\n",
    "# Incorporated citipy to determine city based on latitude and longitude\n",
    "from citipy import citipy\n",
    "\n",
    "# Output File (CSV)\n",
    "output_data_file = \"output_data/cities.csv\"\n",
    "\n",
    "# Range of latitudes and longitudes\n",
    "lat_range = (-90, 90)\n",
    "lng_range = (-180, 180)"
   ]
  },
  {
   "cell_type": "markdown",
   "metadata": {},
   "source": [
    "## Generate Cities List"
   ]
  },
  {
   "cell_type": "code",
   "execution_count": 2,
   "metadata": {},
   "outputs": [
    {
     "data": {
      "text/plain": [
       "623"
      ]
     },
     "execution_count": 2,
     "metadata": {},
     "output_type": "execute_result"
    }
   ],
   "source": [
    "# List for holding lat_lngs and cities\n",
    "lat_lngs = []\n",
    "cities = []\n",
    "\n",
    "# Create a set of random lat and lng combinations\n",
    "lats = np.random.uniform(lat_range[0], lat_range[1], size=1500)\n",
    "lngs = np.random.uniform(lng_range[0], lng_range[1], size=1500)\n",
    "lat_lngs = zip(lats, lngs)\n",
    "\n",
    "# Identify nearest city for each lat, lng combination\n",
    "for lat_lng in lat_lngs:\n",
    "    city = citipy.nearest_city(lat_lng[0], lat_lng[1]).city_name\n",
    "    \n",
    "    # If the city is unique, then add it to a our cities list\n",
    "    if city not in cities:\n",
    "        cities.append(city)\n",
    "\n",
    "# Print the city count to confirm sufficient count\n",
    "len(cities)"
   ]
  },
  {
   "cell_type": "markdown",
   "metadata": {},
   "source": [
    "### Perform API Calls\n",
    "* Perform a weather check on each city using a series of successive API calls.\n",
    "* Include a print log of each city as it'sbeing processed (with the city number and city name).\n"
   ]
  },
  {
   "cell_type": "code",
   "execution_count": 6,
   "metadata": {
    "scrolled": true
   },
   "outputs": [
    {
     "name": "stdout",
     "output_type": "stream",
     "text": [
      "Processing record 1|sao filipe\n",
      "Processing record 2|iskateley\n",
      "Processing record 3|hervey bay\n",
      "Processing record 4|yellowknife\n",
      "Processing record 5|new norfolk\n",
      "Processing record 6|awbari\n",
      "Processing record 7|mataura\n",
      "Processing record 8|jalu\n",
      "Processing record 9|hithadhoo\n",
      "Processing record 10|hermanus\n",
      "Processing record 11|rikitea\n",
      "Processing record 12|gamba\n",
      "Processing record 13|katangli\n",
      "Processing record 14|butaritari\n",
      "Processing record 15|gillette\n",
      "Processing record 16|adrar\n",
      "Processing record 17|atuona\n",
      "Processing record 18|vila do maio\n",
      "City not found. skipping.\n",
      "Processing record 19|hobart\n",
      "Processing record 20|kondinskoye\n",
      "Processing record 21|cervo\n",
      "Processing record 22|vaini\n",
      "Processing record 23|turinsk\n",
      "Processing record 24|kaeo\n",
      "Processing record 25|aykhal\n",
      "Processing record 26|kihei\n",
      "City not found. skipping.\n",
      "Processing record 27|albany\n",
      "Processing record 28|ishigaki\n",
      "Processing record 29|luderitz\n",
      "Processing record 30|cape town\n",
      "Processing record 31|port alfred\n",
      "City not found. skipping.\n",
      "Processing record 32|marsabit\n",
      "City not found. skipping.\n",
      "Processing record 33|ribeira grande\n",
      "Processing record 34|bandarbeyla\n",
      "Processing record 35|saint-joseph\n",
      "Processing record 36|shar\n",
      "Processing record 37|skibbereen\n",
      "Processing record 38|morgan city\n",
      "Processing record 39|yertsevo\n",
      "Processing record 40|broome\n",
      "Processing record 41|nago\n",
      "Processing record 42|khatanga\n",
      "Processing record 43|seddon\n",
      "Processing record 44|coihaique\n",
      "Processing record 45|jamestown\n",
      "Processing record 46|santa fe\n",
      "Processing record 47|chumikan\n",
      "Processing record 48|cherskiy\n",
      "Processing record 49|mahebourg\n",
      "City not found. skipping.\n",
      "Processing record 50|san jose acatempa\n",
      "Processing record 51|busselton\n",
      "Processing record 52|kaitangata\n",
      "Processing record 53|nanning\n",
      "Processing record 54|severo-kurilsk\n",
      "Processing record 55|ardakan\n",
      "City not found. skipping.\n",
      "City not found. skipping.\n",
      "Processing record 56|qaanaaq\n",
      "Processing record 57|taoudenni\n",
      "Processing record 58|ponta do sol\n",
      "Processing record 59|ust-tsilma\n",
      "Processing record 60|roald\n",
      "Processing record 61|mar del plata\n",
      "Processing record 62|amuntai\n",
      "Processing record 63|thompson\n",
      "Processing record 64|bengkulu\n",
      "Processing record 65|krasnoborsk\n",
      "Processing record 66|independence\n",
      "Processing record 67|punta arenas\n",
      "Processing record 68|stornoway\n",
      "Processing record 69|algiers\n",
      "Processing record 70|sioux lookout\n",
      "Processing record 71|kapaa\n",
      "Processing record 72|segou\n",
      "Processing record 73|carauari\n",
      "Processing record 74|port elizabeth\n",
      "City not found. skipping.\n",
      "Processing record 75|voloshka\n",
      "Processing record 76|ushuaia\n",
      "Processing record 77|lompoc\n",
      "Processing record 78|yomou\n",
      "City not found. skipping.\n",
      "Processing record 79|hofn\n",
      "Processing record 80|ilulissat\n",
      "Processing record 81|broken hill\n",
      "Processing record 82|tomatlan\n",
      "Processing record 83|mehamn\n",
      "Processing record 84|boli\n",
      "Processing record 85|hinton\n",
      "Processing record 86|arraial do cabo\n",
      "Processing record 87|paamiut\n",
      "Processing record 88|chambas\n",
      "Processing record 89|isangel\n",
      "Processing record 90|saint george\n",
      "City not found. skipping.\n",
      "Processing record 91|baiyin\n",
      "Processing record 92|vestmanna\n",
      "Processing record 93|bubaque\n",
      "Processing record 94|acajutla\n",
      "Processing record 95|houma\n",
      "Processing record 96|ixtapa\n",
      "Processing record 97|avarua\n",
      "Processing record 98|east london\n",
      "City not found. skipping.\n",
      "City not found. skipping.\n",
      "City not found. skipping.\n",
      "Processing record 99|castro\n",
      "Processing record 100|bantigue\n",
      "Processing record 101|te anau\n",
      "Processing record 102|palma\n",
      "Processing record 103|saint-augustin\n",
      "Processing record 104|saint-philippe\n",
      "Processing record 105|kodiak\n",
      "Processing record 106|rockland\n",
      "Processing record 107|saint-pierre\n",
      "Processing record 108|puerto carreno\n",
      "Processing record 109|ngunguru\n",
      "Processing record 110|grindavik\n",
      "Processing record 111|hilo\n",
      "Processing record 112|dragoman\n",
      "Processing record 113|loa janan\n",
      "Processing record 114|puerto ayora\n",
      "Processing record 115|iralaya\n",
      "Processing record 116|aklavik\n",
      "Processing record 117|launceston\n",
      "Processing record 118|waipawa\n",
      "Processing record 119|hirado\n",
      "City not found. skipping.\n",
      "Processing record 120|tanout\n",
      "Processing record 121|bogorodskoye\n",
      "Processing record 122|bambous virieux\n",
      "City not found. skipping.\n",
      "Processing record 123|vostok\n",
      "Processing record 124|harper\n",
      "Processing record 125|asfi\n",
      "Processing record 126|helong\n",
      "Processing record 127|lebu\n",
      "Processing record 128|mubende\n",
      "Processing record 129|anadyr\n",
      "Processing record 130|kaseda\n",
      "Processing record 131|kavieng\n",
      "Processing record 132|tuktoyaktuk\n",
      "Processing record 133|westport\n",
      "Processing record 134|dunedin\n",
      "Processing record 135|hambantota\n",
      "Processing record 136|airai\n",
      "Processing record 137|luocheng\n",
      "Processing record 138|najran\n",
      "Processing record 139|fuerte olimpo\n",
      "Processing record 140|kenai\n",
      "Processing record 141|sungaipenuh\n",
      "Processing record 142|novyye lyady\n",
      "Processing record 143|longyearbyen\n",
      "Processing record 144|yarim\n",
      "Processing record 145|altagracia de orituco\n",
      "Processing record 146|flinders\n",
      "Processing record 147|hauterive\n",
      "Processing record 148|magdiwang\n",
      "Processing record 149|talcahuano\n",
      "Processing record 150|takoradi\n",
      "Processing record 151|mount isa\n",
      "Processing record 152|sawtell\n",
      "Processing record 153|gorom-gorom\n",
      "Processing record 154|garhi khairo\n",
      "Processing record 155|margate\n",
      "City not found. skipping.\n",
      "Processing record 156|muzhi\n",
      "Processing record 157|oromocto\n",
      "Processing record 158|namatanai\n",
      "City not found. skipping.\n",
      "Processing record 159|talnakh\n",
      "Processing record 160|paciran\n",
      "Processing record 161|mao\n",
      "Processing record 162|lorengau\n",
      "Processing record 163|borna\n",
      "Processing record 164|dharchula\n",
      "Processing record 165|karratha\n",
      "Processing record 166|kamenka\n",
      "Processing record 167|hasaki\n",
      "Processing record 168|dasoguz\n",
      "Processing record 169|adamas\n",
      "Processing record 170|ombessa\n",
      "Processing record 171|viedma\n",
      "Processing record 172|souillac\n",
      "Processing record 173|basoko\n",
      "Processing record 174|seydi\n",
      "City not found. skipping.\n",
      "Processing record 175|marystown\n",
      "Processing record 176|carnarvon\n",
      "Processing record 177|bluff\n",
      "Processing record 178|dhidhdhoo\n",
      "Processing record 179|macas\n",
      "Processing record 180|chokurdakh\n",
      "Processing record 181|guerrero negro\n",
      "Processing record 182|college\n",
      "Processing record 183|katsuura\n",
      "Processing record 184|osakarovka\n",
      "Processing record 185|saskylakh\n",
      "Processing record 186|sindgi\n",
      "Processing record 187|aripuana\n",
      "Processing record 188|leningradskiy\n",
      "City not found. skipping.\n",
      "Processing record 189|innisfail\n",
      "Processing record 190|nandgaon\n",
      "Processing record 191|mount pleasant\n",
      "Processing record 192|cabedelo\n",
      "Processing record 193|vila velha\n",
      "Processing record 194|las vegas\n",
      "Processing record 195|ossora\n",
      "Processing record 196|mokhsogollokh\n",
      "Processing record 197|victoria\n",
      "Processing record 198|mount gambier\n",
      "Processing record 199|amurzet\n",
      "Processing record 200|kota kinabalu\n",
      "Processing record 201|villa carlos paz\n",
      "Processing record 202|truth or consequences\n",
      "Processing record 203|ugoofaaru\n",
      "Processing record 204|faanui\n",
      "Processing record 205|kieta\n",
      "Processing record 206|havre-saint-pierre\n",
      "Processing record 207|caramay\n",
      "Processing record 208|mizdah\n",
      "Processing record 209|redding\n",
      "Processing record 210|abbotsford\n",
      "City not found. skipping.\n",
      "Processing record 211|ancud\n",
      "Processing record 212|seymchan\n",
      "Processing record 213|muriti\n",
      "Processing record 214|hamilton\n",
      "Processing record 215|san lucas\n",
      "Processing record 216|puerto cabezas\n",
      "Processing record 217|barrow\n",
      "Processing record 218|nikolskoye\n",
      "Processing record 219|marfino\n",
      "Processing record 220|eston\n",
      "Processing record 221|totness\n",
      "Processing record 222|beringovskiy\n",
      "Processing record 223|geraldton\n",
      "Processing record 224|sinnamary\n",
      "Processing record 225|tuatapere\n",
      "Processing record 226|saint-remy-de-provence\n",
      "Processing record 227|molepolole\n",
      "Processing record 228|saldanha\n",
      "Processing record 229|tabuk\n",
      "Processing record 230|pevek\n",
      "Processing record 231|requena\n",
      "Processing record 232|naze\n",
      "Processing record 233|nouadhibou\n",
      "Processing record 234|manggar\n",
      "City not found. skipping.\n",
      "Processing record 235|kupang\n",
      "Processing record 236|salalah\n",
      "Processing record 237|provideniya\n",
      "Processing record 238|ried\n",
      "Processing record 239|jumla\n",
      "Processing record 240|mayo\n",
      "Processing record 241|redcliffe\n",
      "Processing record 242|antalaha\n",
      "Processing record 243|matagami\n",
      "Processing record 244|coquimbo\n",
      "Processing record 245|villarrobledo\n",
      "Processing record 246|villazon\n",
      "Processing record 247|dikson\n",
      "Processing record 248|pochutla\n",
      "City not found. skipping.\n",
      "Processing record 249|verkhniy lomov\n",
      "Processing record 250|tagusao\n",
      "Processing record 251|cidreira\n",
      "Processing record 252|husavik\n",
      "Processing record 253|moose factory\n",
      "Processing record 254|sola\n",
      "Processing record 255|temyasovo\n",
      "Processing record 256|dalby\n",
      "Processing record 257|chuy\n",
      "Processing record 258|kuytun\n",
      "Processing record 259|payo\n",
      "Processing record 260|qui nhon\n",
      "Processing record 261|atbasar\n",
      "Processing record 262|deputatskiy\n",
      "Processing record 263|pamanukan\n",
      "Processing record 264|kargopol\n",
      "Processing record 265|nemuro\n",
      "Processing record 266|nanortalik\n",
      "Processing record 267|bethel\n",
      "Processing record 268|whyalla\n",
      "Processing record 269|axim\n",
      "Processing record 270|upernavik\n",
      "Processing record 271|south river\n",
      "Processing record 272|maniitsoq\n",
      "Processing record 273|gorin\n",
      "Processing record 274|cabras\n",
      "City not found. skipping.\n",
      "Processing record 275|cascais\n",
      "Processing record 276|alice springs\n",
      "Processing record 277|san luis\n",
      "Processing record 278|arman\n",
      "Processing record 279|murmino\n",
      "Processing record 280|vila franca do campo\n",
      "Processing record 281|bage\n",
      "Processing record 282|bucerias\n",
      "Processing record 283|cuite\n",
      "Processing record 284|newport\n",
      "Processing record 285|tigre\n",
      "Processing record 286|ondangwa\n",
      "Processing record 287|beloha\n",
      "Processing record 288|vestmannaeyjar\n",
      "Processing record 289|coahuayana\n",
      "Processing record 290|parrita\n",
      "Processing record 291|solano\n",
      "City not found. skipping.\n",
      "Processing record 292|tahe\n",
      "City not found. skipping.\n",
      "Processing record 293|shenjiamen\n",
      "Processing record 294|sobolevo\n",
      "Processing record 295|ketchikan\n",
      "Processing record 296|brae\n",
      "Processing record 297|brigantine\n",
      "Processing record 298|wattegama\n",
      "Processing record 299|goya\n",
      "Processing record 300|neuquen\n",
      "Processing record 301|smirnykh\n",
      "Processing record 302|fukue\n",
      "Processing record 303|tambilil\n",
      "Processing record 304|elizabeth city\n",
      "Processing record 305|san estanislao\n",
      "Processing record 306|katherine\n",
      "City not found. skipping.\n",
      "City not found. skipping.\n",
      "City not found. skipping.\n",
      "Processing record 307|benjamin hill\n",
      "Processing record 308|mangrol\n",
      "Processing record 309|cassilandia\n",
      "Processing record 310|torbay\n",
      "Processing record 311|port hardy\n",
      "Processing record 312|olafsvik\n",
      "City not found. skipping.\n",
      "Processing record 313|morant bay\n",
      "City not found. skipping.\n",
      "Processing record 314|petropavlovsk-kamchatskiy\n",
      "Processing record 315|danville\n",
      "City not found. skipping.\n",
      "Processing record 316|whitefish\n",
      "Processing record 317|tateyama\n",
      "City not found. skipping.\n",
      "Processing record 318|baherden\n",
      "Processing record 319|kabwe\n",
      "Processing record 320|kundiawa\n",
      "Processing record 321|abbeville\n",
      "Processing record 322|dingle\n",
      "Processing record 323|menongue\n",
      "Processing record 324|ust-nera\n",
      "Processing record 325|karrapur\n",
      "Processing record 326|avera\n",
      "Processing record 327|tasiilaq\n",
      "Processing record 328|bredasdorp\n",
      "Processing record 329|yamada\n",
      "Processing record 330|tikhvin\n",
      "Processing record 331|kahului\n",
      "City not found. skipping.\n",
      "Processing record 332|gondar\n",
      "Processing record 333|ust-maya\n",
      "Processing record 334|pangai\n",
      "Processing record 335|esperance\n",
      "Processing record 336|namibe\n",
      "Processing record 337|port lincoln\n",
      "Processing record 338|high prairie\n",
      "Processing record 339|angoche\n",
      "Processing record 340|primo tapia\n",
      "Processing record 341|constantine\n",
      "Processing record 342|nelson bay\n",
      "Processing record 343|lagoa\n",
      "Processing record 344|yulara\n",
      "Processing record 345|basco\n",
      "Processing record 346|mapiripan\n",
      "Processing record 347|maua\n",
      "Processing record 348|tual\n",
      "Processing record 349|santiago del estero\n",
      "Processing record 350|ibra\n",
      "Processing record 351|kitale\n",
      "Processing record 352|maryville\n",
      "Processing record 353|juba\n",
      "Processing record 354|half moon bay\n",
      "Processing record 355|tessalit\n",
      "Processing record 356|talas\n",
      "Processing record 357|kerman\n",
      "Processing record 358|kaka\n",
      "Processing record 359|belmonte\n",
      "Processing record 360|idritsa\n",
      "Processing record 361|murdochville\n",
      "Processing record 362|bambanglipuro\n",
      "Processing record 363|meadville\n",
      "Processing record 364|nambucca heads\n",
      "Processing record 365|blois\n",
      "Processing record 366|buzmeyin\n",
      "Processing record 367|loikaw\n",
      "Processing record 368|huilong\n",
      "Processing record 369|auki\n",
      "Processing record 370|nassjo\n",
      "Processing record 371|de-kastri\n",
      "Processing record 372|pisco\n",
      "Processing record 373|sobradinho\n",
      "Processing record 374|aleksandrov gay\n",
      "Processing record 375|hvolsvollur\n",
      "City not found. skipping.\n",
      "Processing record 376|russellville\n",
      "Processing record 377|andenes\n",
      "City not found. skipping.\n",
      "Processing record 378|srednekolymsk\n",
      "Processing record 379|touros\n",
      "Processing record 380|kajaani\n",
      "City not found. skipping.\n",
      "Processing record 381|ola\n",
      "Processing record 382|farafangana\n",
      "Processing record 383|clyde river\n",
      "Processing record 384|shahrud\n",
      "Processing record 385|grand gaube\n",
      "Processing record 386|nurota\n",
      "Processing record 387|wlodawa\n",
      "Processing record 388|weilburg\n",
      "Processing record 389|kirakira\n",
      "City not found. skipping.\n",
      "Processing record 390|pimentel\n",
      "Processing record 391|aranos\n",
      "City not found. skipping.\n",
      "Processing record 392|camabatela\n",
      "Processing record 393|kudahuvadhoo\n",
      "Processing record 394|norman wells\n",
      "Processing record 395|sabha\n",
      "City not found. skipping.\n",
      "Processing record 396|hobyo\n",
      "Processing record 397|leeton\n",
      "Processing record 398|kataysk\n",
      "Processing record 399|hermiston\n",
      "Processing record 400|bathsheba\n",
      "Processing record 401|luziania\n",
      "Processing record 402|doha\n",
      "Processing record 403|tokur\n",
      "Processing record 404|colac\n",
      "Processing record 405|xuddur\n",
      "Processing record 406|staraya poltavka\n",
      "Processing record 407|luba\n",
      "Processing record 408|georgetown\n",
      "Processing record 409|sitka\n",
      "Processing record 410|drumheller\n",
      "City not found. skipping.\n",
      "Processing record 411|lagos\n",
      "Processing record 412|asadabad\n",
      "Processing record 413|lakes entrance\n",
      "Processing record 414|ponerihouen\n",
      "Processing record 415|barra patuca\n",
      "Processing record 416|umm lajj\n",
      "Processing record 417|verkhoyansk\n",
      "Processing record 418|mackenzie\n",
      "Processing record 419|port blair\n",
      "Processing record 420|mineiros\n",
      "Processing record 421|sungairaya\n",
      "Processing record 422|asau\n",
      "Processing record 423|kotma\n",
      "Processing record 424|palmer\n",
      "Processing record 425|roy\n",
      "Processing record 426|suslonger\n",
      "Processing record 427|nishihara\n",
      "Processing record 428|cayenne\n",
      "Processing record 429|conceicao da feira\n",
      "Processing record 430|marawi\n",
      "Processing record 431|prince rupert\n",
      "Processing record 432|karachi\n",
      "Processing record 433|talara\n",
      "Processing record 434|tiksi\n",
      "Processing record 435|nouakchott\n",
      "Processing record 436|eichenzell\n",
      "Processing record 437|jagdalpur\n",
      "Processing record 438|sangar\n",
      "Processing record 439|gobabis\n",
      "City not found. skipping.\n",
      "Processing record 440|hami\n",
      "Processing record 441|klaksvik\n",
      "Processing record 442|soyo\n",
      "Processing record 443|kavaratti\n",
      "Processing record 444|pacific grove\n",
      "Processing record 445|necochea\n",
      "Processing record 446|alta floresta\n",
      "Processing record 447|mercedes\n",
      "Processing record 448|tabory\n",
      "Processing record 449|general pico\n",
      "Processing record 450|nara\n",
      "Processing record 451|kilindoni\n",
      "Processing record 452|quesnel\n",
      "Processing record 453|ivanovka\n",
      "Processing record 454|filadelfia\n",
      "Processing record 455|west bay\n",
      "Processing record 456|linjiang\n",
      "Processing record 457|qaqortoq\n",
      "Processing record 458|adelanto\n",
      "Processing record 459|neryungri\n",
      "Processing record 460|terrace bay\n",
      "Processing record 461|almaty\n",
      "Processing record 462|dir\n",
      "Processing record 463|yar-sale\n",
      "Processing record 464|podor\n",
      "Processing record 465|palmela\n",
      "Processing record 466|estevan\n",
      "Processing record 467|ucluelet\n",
      "Processing record 468|cabo san lucas\n",
      "Processing record 469|jacqueville\n",
      "Processing record 470|ladario\n",
      "Processing record 471|ayagoz\n",
      "Processing record 472|port augusta\n",
      "Processing record 473|codrington\n",
      "Processing record 474|tecoanapa\n",
      "Processing record 475|placerville\n",
      "Processing record 476|daru\n",
      "Processing record 477|boaco\n",
      "Processing record 478|cururupu\n",
      "Processing record 479|ocos\n",
      "Processing record 480|la ronge\n",
      "Processing record 481|buin\n",
      "Processing record 482|yanliang\n",
      "Processing record 483|juneau\n",
      "Processing record 484|san cristobal\n",
      "Processing record 485|varkaus\n",
      "Processing record 486|labuhan\n",
      "Processing record 487|bose\n",
      "Processing record 488|twin falls\n",
      "Processing record 489|taltal\n",
      "Processing record 490|pishva\n",
      "City not found. skipping.\n",
      "Processing record 491|muscatine\n",
      "Processing record 492|davila\n",
      "Processing record 493|alasehir\n",
      "City not found. skipping.\n",
      "Processing record 494|teplyk\n",
      "Processing record 495|vilhena\n",
      "Processing record 496|zabid\n",
      "Processing record 497|spearfish\n",
      "Processing record 498|simplicio mendes\n",
      "Processing record 499|san patricio\n",
      "Processing record 500|novyy urengoy\n",
      "Processing record 501|neiafu\n",
      "Processing record 502|tumbagaan\n",
      "Processing record 503|nkhata bay\n",
      "Processing record 504|lata\n",
      "Processing record 505|kuryk\n",
      "Processing record 506|taihe\n",
      "Processing record 507|lasa\n",
      "Processing record 508|komatipoort\n",
      "Processing record 509|buraydah\n",
      "Processing record 510|inta\n",
      "Processing record 511|faya\n",
      "Processing record 512|wardenburg\n",
      "Processing record 513|ust-ilimsk\n",
      "Processing record 514|petinos\n",
      "Processing record 515|mahon\n",
      "Processing record 516|samarai\n",
      "Processing record 517|ciudad bolivar\n",
      "Processing record 518|komsomolskiy\n",
      "Processing record 519|lydenburg\n",
      "Processing record 520|hualmay\n",
      "Processing record 521|grand-santi\n",
      "Processing record 522|shitanjing\n",
      "Processing record 523|yeniseysk\n",
      "Processing record 524|bangkalan\n",
      "Processing record 525|sinop\n",
      "Processing record 526|tautira\n",
      "Processing record 527|svetlogorsk\n",
      "Processing record 528|port hedland\n",
      "Processing record 529|sakakah\n",
      "Processing record 530|alot\n",
      "Processing record 531|tutayev\n",
      "Processing record 532|mbekenyera\n",
      "Processing record 533|ko samui\n",
      "Processing record 534|iqaluit\n",
      "Processing record 535|tukrah\n",
      "Processing record 536|acapulco\n",
      "Processing record 537|las palmas\n",
      "Processing record 538|smithers\n",
      "Processing record 539|bereda\n",
      "Processing record 540|lavrentiya\n",
      "Processing record 541|korla\n",
      "Processing record 542|kota belud\n",
      "Processing record 543|tselinnoye\n",
      "Processing record 544|zyryanka\n",
      "Processing record 545|saint-georges\n",
      "Processing record 546|portobelo\n",
      "Processing record 547|fortuna\n",
      "Processing record 548|bagrami\n",
      "City not found. skipping.\n",
      "Processing record 549|the valley\n",
      "City not found. skipping.\n",
      "City not found. skipping.\n",
      "Processing record 550|batagay-alyta\n",
      "City not found. skipping.\n",
      "Processing record 551|baruun-urt\n",
      "Processing record 552|konevo\n",
      "Processing record 553|fort walton beach\n",
      "Processing record 554|buala\n",
      "Processing record 555|mount kisco\n",
      "Processing record 556|amapa\n",
      "Processing record 557|opuwo\n",
      "Processing record 558|ewa beach\n",
      "Processing record 559|santa maria\n",
      "City not found. skipping.\n",
      "Processing record 560|gat\n",
      "Processing record 561|kruisfontein\n",
      "Processing record 562|padang\n",
      "City not found. skipping.\n",
      "Processing record 563|lazaro cardenas\n",
      "Processing record 564|edd\n",
      "Processing record 565|iwanai\n",
      "Processing record 566|waingapu\n",
      "Processing record 567|nchelenge\n",
      "Processing record 568|outjo\n",
      "Processing record 569|itoman\n",
      "Processing record 570|steubenville\n",
      "Processing record 571|berlevag\n",
      "Processing record 572|labrea\n",
      "Processing record 573|boueni\n",
      "Processing record 574|kumluca\n"
     ]
    }
   ],
   "source": [
    "url = 'http://api.openweathermap.org/data/2.5/weather?units=Imperial&'\n",
    "\n",
    "#Defining empty lists to store values \n",
    "cloudy = []\n",
    "country = []\n",
    "date = []\n",
    "max_temp = []\n",
    "humidity = []\n",
    "lat = []\n",
    "lng = []\n",
    "wind_speed = []\n",
    "city_name = []\n",
    "\n",
    "i = 1\n",
    "for city in cities:\n",
    "    city=city\n",
    "    query_url = url + \"appid=\" + weather_api_key + \"&q=\" + city \n",
    "    response = requests.get(query_url).json()\n",
    "    \n",
    "    try:\n",
    "        cloudy.append(response[\"clouds\"][\"all\"])\n",
    "        country.append(response[\"sys\"][\"country\"])\n",
    "        date.append(response[\"dt\"])\n",
    "        max_temp.append(response[\"main\"]['temp_max'])\n",
    "        humidity.append(response[\"main\"]['humidity'])\n",
    "        lat.append(response[\"coord\"][\"lat\"])  \n",
    "        lng.append(response[\"coord\"][\"lon\"])\n",
    "        wind_speed.append(response[\"wind\"][\"speed\"])\n",
    "        city_name.append(response[\"name\"])\n",
    "        print(f\"Processing record {i}|{city}\")\n",
    "        i+=1\n",
    "    except (KeyError):\n",
    "        print(\"City not found. skipping.\")"
   ]
  },
  {
   "cell_type": "markdown",
   "metadata": {},
   "source": [
    "### Convert Raw Data to DataFrame\n",
    "* Export the city data into a .csv.\n",
    "* Display the DataFrame"
   ]
  },
  {
   "cell_type": "code",
   "execution_count": 9,
   "metadata": {},
   "outputs": [
    {
     "data": {
      "text/html": [
       "<div>\n",
       "<style scoped>\n",
       "    .dataframe tbody tr th:only-of-type {\n",
       "        vertical-align: middle;\n",
       "    }\n",
       "\n",
       "    .dataframe tbody tr th {\n",
       "        vertical-align: top;\n",
       "    }\n",
       "\n",
       "    .dataframe thead th {\n",
       "        text-align: right;\n",
       "    }\n",
       "</style>\n",
       "<table border=\"1\" class=\"dataframe\">\n",
       "  <thead>\n",
       "    <tr style=\"text-align: right;\">\n",
       "      <th></th>\n",
       "      <th>City</th>\n",
       "      <th>Cloudy</th>\n",
       "      <th>Country</th>\n",
       "      <th>Date</th>\n",
       "      <th>Humidity</th>\n",
       "      <th>Lat</th>\n",
       "      <th>Lng</th>\n",
       "      <th>Max Temp</th>\n",
       "      <th>Wind Speed</th>\n",
       "    </tr>\n",
       "    <tr>\n",
       "      <th>City ID</th>\n",
       "      <th></th>\n",
       "      <th></th>\n",
       "      <th></th>\n",
       "      <th></th>\n",
       "      <th></th>\n",
       "      <th></th>\n",
       "      <th></th>\n",
       "      <th></th>\n",
       "      <th></th>\n",
       "    </tr>\n",
       "  </thead>\n",
       "  <tbody>\n",
       "    <tr>\n",
       "      <th>0</th>\n",
       "      <td>São Filipe</td>\n",
       "      <td>10</td>\n",
       "      <td>CV</td>\n",
       "      <td>1635042707</td>\n",
       "      <td>68</td>\n",
       "      <td>14.8961</td>\n",
       "      <td>-24.4956</td>\n",
       "      <td>78.53</td>\n",
       "      <td>9.10</td>\n",
       "    </tr>\n",
       "    <tr>\n",
       "      <th>1</th>\n",
       "      <td>Iskateley</td>\n",
       "      <td>74</td>\n",
       "      <td>RU</td>\n",
       "      <td>1635042708</td>\n",
       "      <td>91</td>\n",
       "      <td>67.6803</td>\n",
       "      <td>53.1512</td>\n",
       "      <td>25.11</td>\n",
       "      <td>7.99</td>\n",
       "    </tr>\n",
       "    <tr>\n",
       "      <th>2</th>\n",
       "      <td>Hervey Bay</td>\n",
       "      <td>99</td>\n",
       "      <td>AU</td>\n",
       "      <td>1635042708</td>\n",
       "      <td>78</td>\n",
       "      <td>-25.2986</td>\n",
       "      <td>152.8535</td>\n",
       "      <td>89.71</td>\n",
       "      <td>16.60</td>\n",
       "    </tr>\n",
       "    <tr>\n",
       "      <th>3</th>\n",
       "      <td>Yellowknife</td>\n",
       "      <td>75</td>\n",
       "      <td>CA</td>\n",
       "      <td>1635042709</td>\n",
       "      <td>80</td>\n",
       "      <td>62.4560</td>\n",
       "      <td>-114.3525</td>\n",
       "      <td>41.56</td>\n",
       "      <td>17.27</td>\n",
       "    </tr>\n",
       "    <tr>\n",
       "      <th>4</th>\n",
       "      <td>New Norfolk</td>\n",
       "      <td>100</td>\n",
       "      <td>AU</td>\n",
       "      <td>1635042680</td>\n",
       "      <td>51</td>\n",
       "      <td>-42.7826</td>\n",
       "      <td>147.0587</td>\n",
       "      <td>55.65</td>\n",
       "      <td>5.01</td>\n",
       "    </tr>\n",
       "  </tbody>\n",
       "</table>\n",
       "</div>"
      ],
      "text/plain": [
       "                City  Cloudy Country        Date  Humidity      Lat       Lng  \\\n",
       "City ID                                                                         \n",
       "0         São Filipe      10      CV  1635042707        68  14.8961  -24.4956   \n",
       "1          Iskateley      74      RU  1635042708        91  67.6803   53.1512   \n",
       "2         Hervey Bay      99      AU  1635042708        78 -25.2986  152.8535   \n",
       "3        Yellowknife      75      CA  1635042709        80  62.4560 -114.3525   \n",
       "4        New Norfolk     100      AU  1635042680        51 -42.7826  147.0587   \n",
       "\n",
       "         Max Temp  Wind Speed  \n",
       "City ID                        \n",
       "0           78.53        9.10  \n",
       "1           25.11        7.99  \n",
       "2           89.71       16.60  \n",
       "3           41.56       17.27  \n",
       "4           55.65        5.01  "
      ]
     },
     "execution_count": 9,
     "metadata": {},
     "output_type": "execute_result"
    }
   ],
   "source": [
    "#Create city df\n",
    "city_df = pd.DataFrame({\"City\":city_name, \"Cloudy\":cloudy, \"Country\":country, \"Date\":date, \"Humidity\":humidity, \"Lat\":lat, \"Lng\":lng, \"Max Temp\":max_temp, \"Wind Speed\":wind_speed})\n",
    "\n",
    "city_df = city_df.rename_axis('City ID')\n",
    "\n",
    "city_df.to_csv(\"../output_data/city.csv\")\n",
    "\n",
    "#Showcase dataframe\n",
    "city_df.head()"
   ]
  },
  {
   "cell_type": "code",
   "execution_count": 10,
   "metadata": {},
   "outputs": [
    {
     "data": {
      "text/plain": [
       "City          574\n",
       "Cloudy        574\n",
       "Country       574\n",
       "Date          574\n",
       "Humidity      574\n",
       "Lat           574\n",
       "Lng           574\n",
       "Max Temp      574\n",
       "Wind Speed    574\n",
       "dtype: int64"
      ]
     },
     "execution_count": 10,
     "metadata": {},
     "output_type": "execute_result"
    }
   ],
   "source": [
    "city_df.count()"
   ]
  },
  {
   "cell_type": "code",
   "execution_count": 16,
   "metadata": {},
   "outputs": [
    {
     "data": {
      "text/html": [
       "<div>\n",
       "<style scoped>\n",
       "    .dataframe tbody tr th:only-of-type {\n",
       "        vertical-align: middle;\n",
       "    }\n",
       "\n",
       "    .dataframe tbody tr th {\n",
       "        vertical-align: top;\n",
       "    }\n",
       "\n",
       "    .dataframe thead th {\n",
       "        text-align: right;\n",
       "    }\n",
       "</style>\n",
       "<table border=\"1\" class=\"dataframe\">\n",
       "  <thead>\n",
       "    <tr style=\"text-align: right;\">\n",
       "      <th></th>\n",
       "      <th>Lat</th>\n",
       "      <th>Lng</th>\n",
       "      <th>Max Temp</th>\n",
       "      <th>Humidity</th>\n",
       "      <th>Cloudiness</th>\n",
       "      <th>Wind Speed</th>\n",
       "      <th>Date</th>\n",
       "    </tr>\n",
       "  </thead>\n",
       "  <tbody>\n",
       "    <tr>\n",
       "      <td>count</td>\n",
       "      <td>599.000000</td>\n",
       "      <td>599.000000</td>\n",
       "      <td>599.000000</td>\n",
       "      <td>599.000000</td>\n",
       "      <td>599.000000</td>\n",
       "      <td>599.000000</td>\n",
       "      <td>5.990000e+02</td>\n",
       "    </tr>\n",
       "    <tr>\n",
       "      <td>mean</td>\n",
       "      <td>19.877028</td>\n",
       "      <td>19.568998</td>\n",
       "      <td>69.794808</td>\n",
       "      <td>69.353923</td>\n",
       "      <td>51.569282</td>\n",
       "      <td>7.979416</td>\n",
       "      <td>1.593605e+09</td>\n",
       "    </tr>\n",
       "    <tr>\n",
       "      <td>std</td>\n",
       "      <td>33.262944</td>\n",
       "      <td>91.418472</td>\n",
       "      <td>15.678452</td>\n",
       "      <td>22.704698</td>\n",
       "      <td>35.405602</td>\n",
       "      <td>5.660694</td>\n",
       "      <td>5.738815e+01</td>\n",
       "    </tr>\n",
       "    <tr>\n",
       "      <td>min</td>\n",
       "      <td>-54.800000</td>\n",
       "      <td>-179.170000</td>\n",
       "      <td>12.200000</td>\n",
       "      <td>7.000000</td>\n",
       "      <td>0.000000</td>\n",
       "      <td>0.360000</td>\n",
       "      <td>1.593605e+09</td>\n",
       "    </tr>\n",
       "    <tr>\n",
       "      <td>25%</td>\n",
       "      <td>-8.540000</td>\n",
       "      <td>-61.210000</td>\n",
       "      <td>59.000000</td>\n",
       "      <td>55.000000</td>\n",
       "      <td>20.000000</td>\n",
       "      <td>3.620000</td>\n",
       "      <td>1.593605e+09</td>\n",
       "    </tr>\n",
       "    <tr>\n",
       "      <td>50%</td>\n",
       "      <td>24.370000</td>\n",
       "      <td>24.670000</td>\n",
       "      <td>73.110000</td>\n",
       "      <td>75.000000</td>\n",
       "      <td>59.000000</td>\n",
       "      <td>6.730000</td>\n",
       "      <td>1.593605e+09</td>\n",
       "    </tr>\n",
       "    <tr>\n",
       "      <td>75%</td>\n",
       "      <td>46.585000</td>\n",
       "      <td>102.255000</td>\n",
       "      <td>80.600000</td>\n",
       "      <td>87.000000</td>\n",
       "      <td>85.000000</td>\n",
       "      <td>11.050000</td>\n",
       "      <td>1.593605e+09</td>\n",
       "    </tr>\n",
       "    <tr>\n",
       "      <td>max</td>\n",
       "      <td>78.220000</td>\n",
       "      <td>179.320000</td>\n",
       "      <td>116.600000</td>\n",
       "      <td>100.000000</td>\n",
       "      <td>100.000000</td>\n",
       "      <td>42.500000</td>\n",
       "      <td>1.593605e+09</td>\n",
       "    </tr>\n",
       "  </tbody>\n",
       "</table>\n",
       "</div>"
      ],
      "text/plain": [
       "              Lat         Lng    Max Temp    Humidity  Cloudiness  Wind Speed  \\\n",
       "count  599.000000  599.000000  599.000000  599.000000  599.000000  599.000000   \n",
       "mean    19.877028   19.568998   69.794808   69.353923   51.569282    7.979416   \n",
       "std     33.262944   91.418472   15.678452   22.704698   35.405602    5.660694   \n",
       "min    -54.800000 -179.170000   12.200000    7.000000    0.000000    0.360000   \n",
       "25%     -8.540000  -61.210000   59.000000   55.000000   20.000000    3.620000   \n",
       "50%     24.370000   24.670000   73.110000   75.000000   59.000000    6.730000   \n",
       "75%     46.585000  102.255000   80.600000   87.000000   85.000000   11.050000   \n",
       "max     78.220000  179.320000  116.600000  100.000000  100.000000   42.500000   \n",
       "\n",
       "               Date  \n",
       "count  5.990000e+02  \n",
       "mean   1.593605e+09  \n",
       "std    5.738815e+01  \n",
       "min    1.593605e+09  \n",
       "25%    1.593605e+09  \n",
       "50%    1.593605e+09  \n",
       "75%    1.593605e+09  \n",
       "max    1.593605e+09  "
      ]
     },
     "execution_count": 16,
     "metadata": {},
     "output_type": "execute_result"
    }
   ],
   "source": []
  },
  {
   "cell_type": "markdown",
   "metadata": {},
   "source": [
    "## Inspect the data and remove the cities where the humidity > 100%.\n",
    "----\n",
    "Skip this step if there are no cities that have humidity > 100%. "
   ]
  },
  {
   "cell_type": "code",
   "execution_count": 6,
   "metadata": {},
   "outputs": [
    {
     "data": {
      "text/html": [
       "<div>\n",
       "<style scoped>\n",
       "    .dataframe tbody tr th:only-of-type {\n",
       "        vertical-align: middle;\n",
       "    }\n",
       "\n",
       "    .dataframe tbody tr th {\n",
       "        vertical-align: top;\n",
       "    }\n",
       "\n",
       "    .dataframe thead th {\n",
       "        text-align: right;\n",
       "    }\n",
       "</style>\n",
       "<table border=\"1\" class=\"dataframe\">\n",
       "  <thead>\n",
       "    <tr style=\"text-align: right;\">\n",
       "      <th></th>\n",
       "      <th>Lat</th>\n",
       "      <th>Lng</th>\n",
       "      <th>Max Temp</th>\n",
       "      <th>Humidity</th>\n",
       "      <th>Cloudiness</th>\n",
       "      <th>Wind Speed</th>\n",
       "      <th>Date</th>\n",
       "    </tr>\n",
       "  </thead>\n",
       "  <tbody>\n",
       "    <tr>\n",
       "      <th>count</th>\n",
       "      <td>550.000000</td>\n",
       "      <td>550.000000</td>\n",
       "      <td>550.000000</td>\n",
       "      <td>550.000000</td>\n",
       "      <td>550.000000</td>\n",
       "      <td>550.000000</td>\n",
       "      <td>5.500000e+02</td>\n",
       "    </tr>\n",
       "    <tr>\n",
       "      <th>mean</th>\n",
       "      <td>19.973545</td>\n",
       "      <td>17.124400</td>\n",
       "      <td>58.331400</td>\n",
       "      <td>67.890909</td>\n",
       "      <td>52.141818</td>\n",
       "      <td>8.544800</td>\n",
       "      <td>1.585764e+09</td>\n",
       "    </tr>\n",
       "    <tr>\n",
       "      <th>std</th>\n",
       "      <td>33.284840</td>\n",
       "      <td>91.595451</td>\n",
       "      <td>25.795297</td>\n",
       "      <td>20.864881</td>\n",
       "      <td>35.766469</td>\n",
       "      <td>6.078869</td>\n",
       "      <td>5.539674e+01</td>\n",
       "    </tr>\n",
       "    <tr>\n",
       "      <th>min</th>\n",
       "      <td>-54.800000</td>\n",
       "      <td>-179.170000</td>\n",
       "      <td>-11.340000</td>\n",
       "      <td>9.000000</td>\n",
       "      <td>0.000000</td>\n",
       "      <td>0.160000</td>\n",
       "      <td>1.585764e+09</td>\n",
       "    </tr>\n",
       "    <tr>\n",
       "      <th>25%</th>\n",
       "      <td>-8.077500</td>\n",
       "      <td>-64.627500</td>\n",
       "      <td>42.800000</td>\n",
       "      <td>55.000000</td>\n",
       "      <td>20.000000</td>\n",
       "      <td>4.525000</td>\n",
       "      <td>1.585764e+09</td>\n",
       "    </tr>\n",
       "    <tr>\n",
       "      <th>50%</th>\n",
       "      <td>23.630000</td>\n",
       "      <td>19.635000</td>\n",
       "      <td>64.940000</td>\n",
       "      <td>72.000000</td>\n",
       "      <td>57.000000</td>\n",
       "      <td>7.325000</td>\n",
       "      <td>1.585764e+09</td>\n",
       "    </tr>\n",
       "    <tr>\n",
       "      <th>75%</th>\n",
       "      <td>48.672500</td>\n",
       "      <td>97.350000</td>\n",
       "      <td>78.800000</td>\n",
       "      <td>83.000000</td>\n",
       "      <td>86.750000</td>\n",
       "      <td>11.410000</td>\n",
       "      <td>1.585764e+09</td>\n",
       "    </tr>\n",
       "    <tr>\n",
       "      <th>max</th>\n",
       "      <td>78.220000</td>\n",
       "      <td>179.320000</td>\n",
       "      <td>102.200000</td>\n",
       "      <td>100.000000</td>\n",
       "      <td>100.000000</td>\n",
       "      <td>46.080000</td>\n",
       "      <td>1.585764e+09</td>\n",
       "    </tr>\n",
       "  </tbody>\n",
       "</table>\n",
       "</div>"
      ],
      "text/plain": [
       "              Lat         Lng    Max Temp    Humidity  Cloudiness  Wind Speed  \\\n",
       "count  550.000000  550.000000  550.000000  550.000000  550.000000  550.000000   \n",
       "mean    19.973545   17.124400   58.331400   67.890909   52.141818    8.544800   \n",
       "std     33.284840   91.595451   25.795297   20.864881   35.766469    6.078869   \n",
       "min    -54.800000 -179.170000  -11.340000    9.000000    0.000000    0.160000   \n",
       "25%     -8.077500  -64.627500   42.800000   55.000000   20.000000    4.525000   \n",
       "50%     23.630000   19.635000   64.940000   72.000000   57.000000    7.325000   \n",
       "75%     48.672500   97.350000   78.800000   83.000000   86.750000   11.410000   \n",
       "max     78.220000  179.320000  102.200000  100.000000  100.000000   46.080000   \n",
       "\n",
       "               Date  \n",
       "count  5.500000e+02  \n",
       "mean   1.585764e+09  \n",
       "std    5.539674e+01  \n",
       "min    1.585764e+09  \n",
       "25%    1.585764e+09  \n",
       "50%    1.585764e+09  \n",
       "75%    1.585764e+09  \n",
       "max    1.585764e+09  "
      ]
     },
     "execution_count": 6,
     "metadata": {},
     "output_type": "execute_result"
    }
   ],
   "source": []
  },
  {
   "cell_type": "code",
   "execution_count": 17,
   "metadata": {},
   "outputs": [
    {
     "data": {
      "text/plain": [
       "Int64Index([], dtype='int64')"
      ]
     },
     "execution_count": 17,
     "metadata": {},
     "output_type": "execute_result"
    }
   ],
   "source": [
    "#  Get the indices of cities that have humidity over 100%.\n"
   ]
  },
  {
   "cell_type": "code",
   "execution_count": 19,
   "metadata": {},
   "outputs": [
    {
     "data": {
      "text/html": [
       "<div>\n",
       "<style scoped>\n",
       "    .dataframe tbody tr th:only-of-type {\n",
       "        vertical-align: middle;\n",
       "    }\n",
       "\n",
       "    .dataframe tbody tr th {\n",
       "        vertical-align: top;\n",
       "    }\n",
       "\n",
       "    .dataframe thead th {\n",
       "        text-align: right;\n",
       "    }\n",
       "</style>\n",
       "<table border=\"1\" class=\"dataframe\">\n",
       "  <thead>\n",
       "    <tr style=\"text-align: right;\">\n",
       "      <th></th>\n",
       "      <th>City</th>\n",
       "      <th>Lat</th>\n",
       "      <th>Lng</th>\n",
       "      <th>Max Temp</th>\n",
       "      <th>Humidity</th>\n",
       "      <th>Cloudiness</th>\n",
       "      <th>Wind Speed</th>\n",
       "      <th>Country</th>\n",
       "      <th>Date</th>\n",
       "    </tr>\n",
       "  </thead>\n",
       "  <tbody>\n",
       "    <tr>\n",
       "      <td>0</td>\n",
       "      <td>butaritari</td>\n",
       "      <td>3.07</td>\n",
       "      <td>172.79</td>\n",
       "      <td>83.32</td>\n",
       "      <td>74</td>\n",
       "      <td>84</td>\n",
       "      <td>10.42</td>\n",
       "      <td>KI</td>\n",
       "      <td>1593605283</td>\n",
       "    </tr>\n",
       "    <tr>\n",
       "      <td>1</td>\n",
       "      <td>yerbogachen</td>\n",
       "      <td>61.28</td>\n",
       "      <td>108.01</td>\n",
       "      <td>79.52</td>\n",
       "      <td>58</td>\n",
       "      <td>20</td>\n",
       "      <td>7.70</td>\n",
       "      <td>RU</td>\n",
       "      <td>1593605121</td>\n",
       "    </tr>\n",
       "    <tr>\n",
       "      <td>2</td>\n",
       "      <td>cape town</td>\n",
       "      <td>-33.93</td>\n",
       "      <td>18.42</td>\n",
       "      <td>73.00</td>\n",
       "      <td>77</td>\n",
       "      <td>27</td>\n",
       "      <td>4.70</td>\n",
       "      <td>ZA</td>\n",
       "      <td>1593605039</td>\n",
       "    </tr>\n",
       "    <tr>\n",
       "      <td>3</td>\n",
       "      <td>touba</td>\n",
       "      <td>8.28</td>\n",
       "      <td>-7.68</td>\n",
       "      <td>79.97</td>\n",
       "      <td>75</td>\n",
       "      <td>82</td>\n",
       "      <td>3.58</td>\n",
       "      <td>CI</td>\n",
       "      <td>1593605284</td>\n",
       "    </tr>\n",
       "    <tr>\n",
       "      <td>4</td>\n",
       "      <td>jamestown</td>\n",
       "      <td>42.10</td>\n",
       "      <td>-79.24</td>\n",
       "      <td>64.00</td>\n",
       "      <td>88</td>\n",
       "      <td>1</td>\n",
       "      <td>6.93</td>\n",
       "      <td>US</td>\n",
       "      <td>1593605284</td>\n",
       "    </tr>\n",
       "  </tbody>\n",
       "</table>\n",
       "</div>"
      ],
      "text/plain": [
       "          City    Lat     Lng  Max Temp  Humidity  Cloudiness  Wind Speed  \\\n",
       "0   butaritari   3.07  172.79     83.32        74          84       10.42   \n",
       "1  yerbogachen  61.28  108.01     79.52        58          20        7.70   \n",
       "2    cape town -33.93   18.42     73.00        77          27        4.70   \n",
       "3        touba   8.28   -7.68     79.97        75          82        3.58   \n",
       "4    jamestown  42.10  -79.24     64.00        88           1        6.93   \n",
       "\n",
       "  Country        Date  \n",
       "0      KI  1593605283  \n",
       "1      RU  1593605121  \n",
       "2      ZA  1593605039  \n",
       "3      CI  1593605284  \n",
       "4      US  1593605284  "
      ]
     },
     "execution_count": 19,
     "metadata": {},
     "output_type": "execute_result"
    }
   ],
   "source": [
    "# Make a new DataFrame equal to the city data to drop all humidity outliers by index.\n",
    "# Passing \"inplace=False\" will make a copy of the city_data DataFrame, which we call \"clean_city_data\".\n"
   ]
  },
  {
   "cell_type": "code",
   "execution_count": null,
   "metadata": {},
   "outputs": [],
   "source": [
    "\n"
   ]
  },
  {
   "cell_type": "markdown",
   "metadata": {},
   "source": [
    "## Plotting the Data\n",
    "* Use proper labeling of the plots using plot titles (including date of analysis) and axes labels.\n",
    "* Save the plotted figures as .pngs."
   ]
  },
  {
   "cell_type": "markdown",
   "metadata": {},
   "source": [
    "## Latitude vs. Temperature Plot"
   ]
  },
  {
   "cell_type": "code",
   "execution_count": 13,
   "metadata": {
    "scrolled": true
   },
   "outputs": [
    {
     "data": {
      "image/png": "[encoded data removed]",
      "text/plain": [
       "<Figure size 432x288 with 1 Axes>"
      ]
     },
     "metadata": {
      "needs_background": "light"
     },
     "output_type": "display_data"
    }
   ],
   "source": [
    "#Converting Date for title of plot\n",
    "timestamp = city_df[\"Date\"][0]\n",
    "converted_timestamp = datetime.utcfromtimestamp(timestamp)\n",
    "shortened_timestamp = datetime.date(converted_timestamp)\n",
    "\n",
    "#Creating plot\n",
    "plt.scatter(city_df[\"Lat\"], city_df[\"Max Temp\"], marker = \"o\", color = \"blue\",edgecolor = \"black\")\n",
    "plt.grid()\n",
    "plt.xlabel(\"Latitude\")\n",
    "plt.ylabel(\"Max Temperature (F)\")\n",
    "plt.title(f\"City Latitude vs. Max Temperature({shortened_timestamp})\")\n",
    "plt.savefig(\"../output_data/Lat_vs_temp_plot\")\n",
    "plt.show()"
   ]
  },
  {
   "cell_type": "markdown",
   "metadata": {},
   "source": [
    "## Latitude vs. Humidity Plot"
   ]
  },
  {
   "cell_type": "code",
   "execution_count": 14,
   "metadata": {},
   "outputs": [
    {
     "data": {
      "image/png": "[encoded data removed]",
      "text/plain": [
       "<Figure size 432x288 with 1 Axes>"
      ]
     },
     "metadata": {
      "needs_background": "light"
     },
     "output_type": "display_data"
    }
   ],
   "source": [
    "plt.scatter(city_df[\"Lat\"], city_df[\"Humidity\"], marker = \"o\", color = \"blue\",edgecolor = \"black\")\n",
    "plt.grid()\n",
    "plt.ylim(0, city_df[\"Humidity\"].max()+50)\n",
    "plt.xlabel(\"Latitude\")\n",
    "plt.ylabel(\"Humidity(%)\")\n",
    "plt.title(f\"City Latitude vs. Humidity ({shortened_timestamp})\")\n",
    "plt.savefig(\"../output_data/Lat_vs_humidity_plot\")\n",
    "plt.show()"
   ]
  },
  {
   "cell_type": "markdown",
   "metadata": {},
   "source": [
    "## Latitude vs. Cloudiness Plot"
   ]
  },
  {
   "cell_type": "code",
   "execution_count": 17,
   "metadata": {},
   "outputs": [
    {
     "data": {
      "image/png": "[encoded data removed]",
      "text/plain": [
       "<Figure size 432x288 with 1 Axes>"
      ]
     },
     "metadata": {
      "needs_background": "light"
     },
     "output_type": "display_data"
    }
   ],
   "source": [
    "plt.scatter(city_df[\"Lat\"], city_df[\"Cloudy\"], marker = \"o\", color = \"blue\",edgecolor = \"black\")\n",
    "plt.grid()\n",
    "plt.xlabel(\"Latitude\")\n",
    "plt.ylabel(\"Cloudiness(%)\")\n",
    "plt.title(f\"City Latitude vs. Cloudiness ({shortened_timestamp})\")\n",
    "plt.savefig(\"../output_data/Lat_vs_cloudiness_plot\")\n",
    "plt.show()"
   ]
  },
  {
   "cell_type": "markdown",
   "metadata": {},
   "source": [
    "## Latitude vs. Wind Speed Plot"
   ]
  },
  {
   "cell_type": "code",
   "execution_count": 18,
   "metadata": {},
   "outputs": [
    {
     "data": {
      "image/png": "[encoded data removed]",
      "text/plain": [
       "<Figure size 432x288 with 1 Axes>"
      ]
     },
     "metadata": {
      "needs_background": "light"
     },
     "output_type": "display_data"
    }
   ],
   "source": [
    "plt.scatter(city_df[\"Lat\"], city_df[\"Wind Speed\"], marker = \"o\", color = \"blue\",edgecolor = \"black\")\n",
    "plt.grid()\n",
    "plt.xlabel(\"Latitude\")\n",
    "plt.ylabel(\"Wind Speed(mph)\")\n",
    "plt.title(f\"City Latitude vs. Wind Speed ({shortened_timestamp})\")\n",
    "plt.savefig(\"../output_data/Lat_vs_windSpeed_plot\")\n",
    "plt.show()"
   ]
  },
  {
   "cell_type": "markdown",
   "metadata": {},
   "source": [
    "## Linear Regression"
   ]
  },
  {
   "cell_type": "code",
   "execution_count": 19,
   "metadata": {},
   "outputs": [],
   "source": [
    "# Add the linear regression equation and line to plot\n",
    "def linear_reg_plot(x_values,y_values):\n",
    "    (slope, intercept, rvalue, pvalue, stderr) = linregress(x_values, y_values)\n",
    "    regress_values = x_values * slope + intercept\n",
    "    line_eq = \"y = \" + str(round(slope,2)) + \"x + \" + str(round(intercept,2))\n",
    "    plt.scatter(x_values,y_values)\n",
    "    plt.plot(x_values,regress_values,\"r-\")\n",
    "    plt.annotate(line_eq,(x_values.median(),y_values.median()),fontsize=15,color=\"red\")\n",
    "    plt.xlabel(\"Latitude\")\n",
    "    print(f\"The r-squared is: {rvalue}\")\n",
    "    plt.show()"
   ]
  },
  {
   "cell_type": "code",
   "execution_count": 20,
   "metadata": {},
   "outputs": [],
   "source": [
    "Northern_hemisphere = city_df.loc[city_df[\"Lat\"]>0]\n",
    "Southern_hemisphere = city_df.loc[city_df[\"Lat\"]<0]"
   ]
  },
  {
   "cell_type": "markdown",
   "metadata": {},
   "source": [
    "####  Northern Hemisphere - Max Temp vs. Latitude Linear Regression"
   ]
  },
  {
   "cell_type": "code",
   "execution_count": 21,
   "metadata": {},
   "outputs": [
    {
     "name": "stdout",
     "output_type": "stream",
     "text": [
      "The r-squared is: -0.8912693304015797\n"
     ]
    },
    {
     "data": {
      "image/png": "[encoded data removed]",
      "text/plain": [
       "<Figure size 432x288 with 1 Axes>"
      ]
     },
     "metadata": {
      "needs_background": "light"
     },
     "output_type": "display_data"
    },
    {
     "name": "stdout",
     "output_type": "stream",
     "text": [
      "None\n"
     ]
    }
   ],
   "source": [
    "x_values = Northern_hemisphere[\"Lat\"]\n",
    "y_values = Northern_hemisphere[\"Max Temp\"]\n",
    "plt.ylabel(\"Max Temp (F)\")\n",
    "print(linear_reg_plot(x_values,y_values))"
   ]
  },
  {
   "cell_type": "markdown",
   "metadata": {},
   "source": [
    "####  Southern Hemisphere - Max Temp vs. Latitude Linear Regression"
   ]
  },
  {
   "cell_type": "code",
   "execution_count": 22,
   "metadata": {},
   "outputs": [
    {
     "name": "stdout",
     "output_type": "stream",
     "text": [
      "The r-squared is: 0.6855499018620106\n"
     ]
    },
    {
     "data": {
      "image/png": "[encoded data removed]",
      "text/plain": [
       "<Figure size 432x288 with 1 Axes>"
      ]
     },
     "metadata": {
      "needs_background": "light"
     },
     "output_type": "display_data"
    },
    {
     "name": "stdout",
     "output_type": "stream",
     "text": [
      "None\n"
     ]
    }
   ],
   "source": [
    "x_values = Southern_hemisphere[\"Lat\"]\n",
    "y_values = Southern_hemisphere[\"Max Temp\"]\n",
    "plt.ylabel(\"Max Temp (F)\")\n",
    "print(linear_reg_plot(x_values,y_values))"
   ]
  },
  {
   "cell_type": "markdown",
   "metadata": {},
   "source": [
    "####  Northern Hemisphere - Humidity (%) vs. Latitude Linear Regression"
   ]
  },
  {
   "cell_type": "code",
   "execution_count": 23,
   "metadata": {},
   "outputs": [
    {
     "name": "stdout",
     "output_type": "stream",
     "text": [
      "The r-squared is: 0.177251108983474\n"
     ]
    },
    {
     "data": {
      "image/png": "[encoded data removed]",
      "text/plain": [
       "<Figure size 432x288 with 1 Axes>"
      ]
     },
     "metadata": {
      "needs_background": "light"
     },
     "output_type": "display_data"
    },
    {
     "name": "stdout",
     "output_type": "stream",
     "text": [
      "None\n"
     ]
    }
   ],
   "source": [
    "x_values = Northern_hemisphere[\"Lat\"]\n",
    "y_values = Northern_hemisphere[\"Humidity\"]\n",
    "plt.ylabel(\"Humidity (%)\")\n",
    "print(linear_reg_plot(x_values,y_values))"
   ]
  },
  {
   "cell_type": "markdown",
   "metadata": {},
   "source": [
    "####  Southern Hemisphere - Humidity (%) vs. Latitude Linear Regression"
   ]
  },
  {
   "cell_type": "code",
   "execution_count": 24,
   "metadata": {},
   "outputs": [
    {
     "name": "stdout",
     "output_type": "stream",
     "text": [
      "The r-squared is: 0.177251108983474\n"
     ]
    },
    {
     "data": {
      "image/png": "[encoded data removed]",
      "text/plain": [
       "<Figure size 432x288 with 1 Axes>"
      ]
     },
     "metadata": {
      "needs_background": "light"
     },
     "output_type": "display_data"
    },
    {
     "name": "stdout",
     "output_type": "stream",
     "text": [
      "None\n"
     ]
    }
   ],
   "source": [
    "x_values = Northern_hemisphere[\"Lat\"]\n",
    "y_values = Northern_hemisphere[\"Humidity\"]\n",
    "plt.ylabel(\"Humidity (%)\")\n",
    "print(linear_reg_plot(x_values,y_values))"
   ]
  },
  {
   "cell_type": "markdown",
   "metadata": {},
   "source": [
    "####  Northern Hemisphere - Cloudiness (%) vs. Latitude Linear Regression"
   ]
  },
  {
   "cell_type": "code",
   "execution_count": 26,
   "metadata": {},
   "outputs": [
    {
     "name": "stdout",
     "output_type": "stream",
     "text": [
      "The r-squared is: 0.1543137272670419\n"
     ]
    },
    {
     "data": {
      "image/png": "[encoded data removed]",
      "text/plain": [
       "<Figure size 432x288 with 1 Axes>"
      ]
     },
     "metadata": {
      "needs_background": "light"
     },
     "output_type": "display_data"
    },
    {
     "name": "stdout",
     "output_type": "stream",
     "text": [
      "None\n"
     ]
    }
   ],
   "source": [
    "x_values = Northern_hemisphere[\"Lat\"]\n",
    "y_values = Northern_hemisphere[\"Cloudy\"]\n",
    "plt.ylabel(\"Cloudiness\")\n",
    "print(linear_reg_plot(x_values,y_values))"
   ]
  },
  {
   "cell_type": "markdown",
   "metadata": {},
   "source": [
    "####  Southern Hemisphere - Cloudiness (%) vs. Latitude Linear Regression"
   ]
  },
  {
   "cell_type": "code",
   "execution_count": 27,
   "metadata": {},
   "outputs": [
    {
     "name": "stdout",
     "output_type": "stream",
     "text": [
      "The r-squared is: 0.22779897716448638\n"
     ]
    },
    {
     "data": {
      "image/png": "[encoded data removed]",
      "text/plain": [
       "<Figure size 432x288 with 1 Axes>"
      ]
     },
     "metadata": {
      "needs_background": "light"
     },
     "output_type": "display_data"
    },
    {
     "name": "stdout",
     "output_type": "stream",
     "text": [
      "None\n"
     ]
    }
   ],
   "source": [
    "x_values = Southern_hemisphere[\"Lat\"]\n",
    "y_values = Southern_hemisphere[\"Cloudy\"]\n",
    "plt.ylabel(\"Cloudiness\")\n",
    "print(linear_reg_plot(x_values,y_values))"
   ]
  },
  {
   "cell_type": "markdown",
   "metadata": {},
   "source": [
    "####  Northern Hemisphere - Wind Speed (mph) vs. Latitude Linear Regression"
   ]
  },
  {
   "cell_type": "code",
   "execution_count": 28,
   "metadata": {},
   "outputs": [
    {
     "name": "stdout",
     "output_type": "stream",
     "text": [
      "The r-squared is: 0.20808470959401867\n"
     ]
    },
    {
     "data": {
      "image/png": "[encoded data removed]",
      "text/plain": [
       "<Figure size 432x288 with 1 Axes>"
      ]
     },
     "metadata": {
      "needs_background": "light"
     },
     "output_type": "display_data"
    },
    {
     "name": "stdout",
     "output_type": "stream",
     "text": [
      "None\n"
     ]
    }
   ],
   "source": [
    "x_values = Northern_hemisphere[\"Lat\"]\n",
    "y_values = Northern_hemisphere[\"Wind Speed\"]\n",
    "plt.ylabel(\"Wind Speed\")\n",
    "print(linear_reg_plot(x_values,y_values))"
   ]
  },
  {
   "cell_type": "markdown",
   "metadata": {},
   "source": [
    "####  Southern Hemisphere - Wind Speed (mph) vs. Latitude Linear Regression"
   ]
  },
  {
   "cell_type": "code",
   "execution_count": 29,
   "metadata": {},
   "outputs": [
    {
     "name": "stdout",
     "output_type": "stream",
     "text": [
      "The r-squared is: -0.14281372906467224\n"
     ]
    },
    {
     "data": {
      "image/png": "[encoded data removed]",
      "text/plain": [
       "<Figure size 432x288 with 1 Axes>"
      ]
     },
     "metadata": {
      "needs_background": "light"
     },
     "output_type": "display_data"
    },
    {
     "name": "stdout",
     "output_type": "stream",
     "text": [
      "None\n"
     ]
    }
   ],
   "source": [
    "x_values = Southern_hemisphere[\"Lat\"]\n",
    "y_values = Southern_hemisphere[\"Wind Speed\"]\n",
    "plt.ylabel(\"Wind Speed\")\n",
    "print(linear_reg_plot(x_values,y_values))"
   ]
  },
  {
   "cell_type": "code",
   "execution_count": null,
   "metadata": {},
   "outputs": [],
   "source": []
  }
 ],
 "metadata": {
  "anaconda-cloud": {},
  "kernel_info": {
   "name": "python3"
  },
  "kernelspec": {
   "display_name": "Python 3",
   "language": "python",
   "name": "python3"
  },
  "language_info": {
   "codemirror_mode": {
    "name": "ipython",
    "version": 3
   },
   "file_extension": ".py",
   "mimetype": "text/x-python",
   "name": "python",
   "nbconvert_exporter": "python",
   "pygments_lexer": "ipython3",
   "version": "3.8.8"
  },
  "latex_envs": {
   "LaTeX_envs_menu_present": true,
   "autoclose": false,
   "autocomplete": true,
   "bibliofile": "biblio.bib",
   "cite_by": "apalike",
   "current_citInitial": 1,
   "eqLabelWithNumbers": true,
   "eqNumInitial": 1,
   "hotkeys": {
    "equation": "Ctrl-E",
    "itemize": "Ctrl-I"
   },
   "labels_anchors": false,
   "latex_user_defs": false,
   "report_style_numbering": false,
   "user_envs_cfg": false
  },
  "nteract": {
   "version": "0.12.3"
  }
 },
 "nbformat": 4,
 "nbformat_minor": 2
}
